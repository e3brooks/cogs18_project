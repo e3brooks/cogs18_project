{
 "cells": [
  {
   "cell_type": "markdown",
   "metadata": {},
   "source": [
    "# Project Description"
   ]
  },
  {
   "cell_type": "markdown",
   "metadata": {},
   "source": [
    "Information has become increasingly accessible thanks to advancements in technology. Social media plays an important role in this as it has given people a greater voice. However, it has also become easy for misinformation to be spread and it can be hard to determine which sources are reliable. I have developed a chatbot that can be used as a resource for the Black Lives Matter Movement. I was inspired by the blacklivesmatters.carrd.co. The goal was to create a user friendly way where people can become educated and also be proactive with signing petitions, texting/calling, donating and more.  \n",
    "\n",
    "Using this chatbot is quite simple. The chatbot introduces itself and provides the user with several options. Depending on what the user would like to learn about, the chatbot will supply relevant information. It will reply to  'SIGN PETITIONS', 'CALL', 'DONATE', 'VOTE', 'LEARN' or 'MORE'. The chatbot will open new tabs full of information. 'QUIT' can be used to end the chatbot.  \n",
    "\n",
    "If I had more time, I would have liked to learn how to scrape data from websites so that the chatbot will be continually up to date with current events. I would've like to also make the conversation flow more smoothly and feel like less of a robot.   "
   ]
  },
  {
   "cell_type": "markdown",
   "metadata": {},
   "source": [
    "## Project Code"
   ]
  },
  {
   "cell_type": "code",
   "execution_count": 1,
   "metadata": {
    "scrolled": true
   },
   "outputs": [],
   "source": [
    "from my_module.functions import *\n",
    "from my_module.test_functions import *"
   ]
  },
  {
   "cell_type": "code",
   "execution_count": 2,
   "metadata": {},
   "outputs": [
    {
     "name": "stdout",
     "output_type": "stream",
     "text": [
      "ME : \tsign petitions\n",
      "TYTY:\t Yay, signing petitions is a great way to push for change!\n",
      " \t I sent you to a list of petitions that have yet to reach their goals.\n",
      " \t Is there anything else I can help you with? To quit, reply with 'QUIT'.\n",
      "ME : \tcall\n",
      "TYTY:\t Yay, calling is a great way to push for change!\n",
      " \t There's a lot of people you can contact via text/call/email.\n",
      " \t Is there anything else I can help you with? To quit, reply with 'QUIT'.\n",
      "ME : \tdonate\n",
      "TYTY:\t Donating is a great way to support and push for change!\n",
      " \t This is a great Google Doc that gets updated daily.\n",
      " \t Is there anything else I can help you with? To quit, reply with 'QUIT'.\n",
      "ME : \tvote\n",
      "TYTY:\t To make change, we need YOU to vote because EVERY vote counts!\n",
      " \t You can register to vote at vote.gov :)\n",
      " \t Is there anything else I can help you with? To quit, reply with 'QUIT'.\n",
      "ME : \tlearn\n",
      "TYTY:\t An important part to pushing for justice requires people to be educated.\n",
      " \t Take the time to read/watch these!\n",
      " \t Is there anything else I can help you with? To quit, reply with 'QUIT'.\n",
      "ME : \tmore\n",
      "TYTY:\t There's so many things we can do to suppport such as streaming a playlist.\n",
      " \t Proceeds will be donated to causes that support the BLM movement!\n",
      " \t Is there anything else I can help you with? To quit, reply with 'QUIT'.\n",
      "ME : \tquit\n",
      "TYTY:\t I hope I was helpful. Goodbye!\n"
     ]
    }
   ],
   "source": [
    "start_chat()"
   ]
  },
  {
   "cell_type": "code",
   "execution_count": 3,
   "metadata": {
    "scrolled": true
   },
   "outputs": [],
   "source": [
    "# tests"
   ]
  },
  {
   "cell_type": "code",
   "execution_count": 4,
   "metadata": {},
   "outputs": [],
   "source": [
    "test_response()"
   ]
  },
  {
   "cell_type": "code",
   "execution_count": 5,
   "metadata": {},
   "outputs": [],
   "source": [
    "test_petitions()"
   ]
  },
  {
   "cell_type": "markdown",
   "metadata": {},
   "source": [
    "#### Extra Credit (*optional*)"
   ]
  },
  {
   "cell_type": "markdown",
   "metadata": {},
   "source": [
    "Prior to attending UCSD, I had no programming experience and this left me feeling out of place as a CS major. This class has helped me develop a strong foundation in programming that I previously lacked and has challenged me to make my own projects. I'm so used to following the writeup for programming assignments so figuring out what to do with all of this freedom was hard. I took the time to find good resources for my chatbot to share and I believe there is alot of potential in my project if I keep working on it. "
   ]
  }
 ],
 "metadata": {
  "kernelspec": {
   "display_name": "Python 3",
   "language": "python",
   "name": "python3"
  },
  "language_info": {
   "codemirror_mode": {
    "name": "ipython",
    "version": 3
   },
   "file_extension": ".py",
   "mimetype": "text/x-python",
   "name": "python",
   "nbconvert_exporter": "python",
   "pygments_lexer": "ipython3",
   "version": "3.7.6"
  }
 },
 "nbformat": 4,
 "nbformat_minor": 2
}
